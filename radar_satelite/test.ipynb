{
 "cells": [
  {
   "cell_type": "code",
   "execution_count": null,
   "metadata": {},
   "outputs": [],
   "source": [
    "import json\n",
    "with open('station.json','r') as f:\n",
    "    test=json.load(f)"
   ]
  },
  {
   "cell_type": "code",
   "execution_count": null,
   "metadata": {},
   "outputs": [],
   "source": [
    "test.keys()"
   ]
  },
  {
   "cell_type": "code",
   "execution_count": 7,
   "metadata": {},
   "outputs": [
    {
     "data": {
      "text/plain": [
       "b'\\x00\\x00\\x00'"
      ]
     },
     "execution_count": 7,
     "metadata": {},
     "output_type": "execute_result"
    }
   ],
   "source": [
    "with open(r'D:\\codes\\PyRadar\\Z_RADR_I_Z9250_20160701001000_O_DOR_SA_CAP.bin','rb') as f:\n",
    "    magic=f.read(3)\n",
    "magic"
   ]
  },
  {
   "cell_type": "code",
   "execution_count": 8,
   "metadata": {},
   "outputs": [],
   "source": [
    "import bz2\n",
    "data=b'fdanfdankjfansdgjnafdsdjdasnflsadjfnajsdnfjvasdjnfaskjfna'\n",
    "c=bz2.compress(data)"
   ]
  },
  {
   "cell_type": "code",
   "execution_count": 9,
   "metadata": {},
   "outputs": [
    {
     "data": {
      "text/plain": [
       "b'BZh91AY&SY\\xeak\\xfc\\xe2\\x00\\x00\\n\\x81\\x80%\\x9d\\t\\x00 \\x00@\\x95O\\xf5\\x00\\x90\\x80\\x18w}%y\\x84\\xdb1&r\\x95 \\xb3\\x87\\x9b\\xcc\\xd85j\\xea\\x0feM\\xa3\\xf8\\xbb\\x92)\\xc2\\x84\\x87S_\\xe7\\x10'"
      ]
     },
     "execution_count": 9,
     "metadata": {},
     "output_type": "execute_result"
    }
   ],
   "source": [
    "c"
   ]
  }
 ],
 "metadata": {
  "kernelspec": {
   "display_name": "Python 3.9.12 ('pyart_env')",
   "language": "python",
   "name": "python3"
  },
  "language_info": {
   "codemirror_mode": {
    "name": "ipython",
    "version": 3
   },
   "file_extension": ".py",
   "mimetype": "text/x-python",
   "name": "python",
   "nbconvert_exporter": "python",
   "pygments_lexer": "ipython3",
   "version": "3.9.12"
  },
  "orig_nbformat": 4,
  "vscode": {
   "interpreter": {
    "hash": "8f2485ad5274b4756f11ca951a8d0c60a42007313bb3b841781ef13f0b1b1a20"
   }
  }
 },
 "nbformat": 4,
 "nbformat_minor": 2
}
